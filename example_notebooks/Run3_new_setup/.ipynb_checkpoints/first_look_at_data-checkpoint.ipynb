{
 "cells": [
  {
   "cell_type": "code",
   "execution_count": 1,
   "id": "4e66ee32",
   "metadata": {},
   "outputs": [],
   "source": [
    "import sys\n",
    "import os\n",
    "import uproot\n",
    "import numpy as np\n",
    "import matplotlib.pyplot as plt\n",
    "\n",
    "from scipy import stats as st\n",
    "import scipy\n",
    "\n",
    "import peakutils\n",
    "\n",
    "from datetime import datetime\n",
    "\n",
    "import math\n",
    "from scipy          import stats\n",
    "from scipy.optimize import curve_fit"
   ]
  },
  {
   "cell_type": "code",
   "execution_count": 2,
   "id": "6e9493a6",
   "metadata": {},
   "outputs": [],
   "source": [
    "### Import functions from peak_functions\n",
    "\n",
    "repository_path = os.path.abspath('../..')\n",
    "sys.path.append(repository_path)\n",
    "\n",
    "import blr_functions  as blr\n",
    "import peak_functions as pf\n",
    "import fit_functions  as fitf"
   ]
  },
  {
   "cell_type": "code",
   "execution_count": 3,
   "id": "6e9c704a",
   "metadata": {},
   "outputs": [],
   "source": [
    "import warnings\n",
    "warnings.filterwarnings(\"ignore\")"
   ]
  },
  {
   "cell_type": "code",
   "execution_count": 4,
   "id": "25c7a18a",
   "metadata": {},
   "outputs": [],
   "source": [
    "plt.rcParams[\"figure.figsize\"] = 9, 6\n",
    "plt.rcParams[\"font.size\"]      = 14"
   ]
  },
  {
   "cell_type": "code",
   "execution_count": 5,
   "id": "db320113",
   "metadata": {},
   "outputs": [],
   "source": [
    "filename = '/Users/romoluque_c/LEGEND/BACON/new_setup/datatest/run-09_01_2024-file_5.root'\n",
    "infile   = uproot.open(filename)\n",
    "RawTree  = infile['RawTree']"
   ]
  },
  {
   "cell_type": "markdown",
   "id": "e3214dd3",
   "metadata": {},
   "source": [
    "## Plot one event:"
   ]
  },
  {
   "cell_type": "code",
   "execution_count": null,
   "id": "43faeac8",
   "metadata": {},
   "outputs": [],
   "source": [
    "choose_evt = 4\n",
    "fig, axs = plt.subplots(4, 3, figsize=(16, 14))\n",
    "for k in range(12):\n",
    "    #if k==3: continue\n",
    "    i = int(k/3)\n",
    "    j = k%3\n",
    "    wf = np.array(RawTree[f'chan{k}/rdigi'].array())[choose_evt]\n",
    "    axs[i][j].plot(2*np.arange(len(wf)), wf, linewidth=0.5)\n",
    "    axs[i][j].set_xlabel('Time window (ns)', fontsize=16)\n",
    "    axs[i][j].set_ylabel('Amplitude (ADC)', fontsize=16)\n",
    "    axs[i][j].set_title(f\"Channel {k}\")\n",
    "plt.tight_layout()\n",
    "plt.show()"
   ]
  },
  {
   "cell_type": "code",
   "execution_count": null,
   "id": "aa44f794",
   "metadata": {},
   "outputs": [],
   "source": []
  }
 ],
 "metadata": {
  "kernelspec": {
   "display_name": "Python 3 (ipykernel)",
   "language": "python",
   "name": "python3"
  },
  "language_info": {
   "codemirror_mode": {
    "name": "ipython",
    "version": 3
   },
   "file_extension": ".py",
   "mimetype": "text/x-python",
   "name": "python",
   "nbconvert_exporter": "python",
   "pygments_lexer": "ipython3",
   "version": "3.10.9"
  }
 },
 "nbformat": 4,
 "nbformat_minor": 5
}
