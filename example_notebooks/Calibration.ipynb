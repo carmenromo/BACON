{
 "cells": [
  {
   "cell_type": "code",
   "execution_count": 1,
   "id": "78f1e3ee",
   "metadata": {},
   "outputs": [],
   "source": [
    "import os\n",
    "import sys\n",
    "import math\n",
    "import uproot\n",
    "import numpy as np\n",
    "\n",
    "import matplotlib.pyplot as plt\n",
    "\n",
    "from scipy          import stats\n",
    "from scipy.optimize import curve_fit\n",
    "from collections    import namedtuple"
   ]
  },
  {
   "cell_type": "code",
   "execution_count": 2,
   "id": "07b51165",
   "metadata": {},
   "outputs": [],
   "source": [
    "### Import functions from peak_functions\n",
    "\n",
    "repository_path = os.path.abspath('/Users/romoluque_c/Repositories/BACON_romo/')\n",
    "sys.path.append(repository_path)\n",
    "\n",
    "import peak_functions as pf"
   ]
  },
  {
   "cell_type": "code",
   "execution_count": 3,
   "id": "e2a5b932",
   "metadata": {},
   "outputs": [],
   "source": [
    "plt.rcParams[\"figure.figsize\"] = 9, 6\n",
    "plt.rcParams[\"font.size\"]      = 13"
   ]
  },
  {
   "cell_type": "markdown",
   "id": "5470043e",
   "metadata": {},
   "source": [
    "## Calibration runs taken in September"
   ]
  },
  {
   "cell_type": "code",
   "execution_count": 4,
   "id": "9c2f5ef4",
   "metadata": {},
   "outputs": [],
   "source": [
    "data_path = '/Users/romoluque_c/LEGEND/BACON/datatest/SiPM_tests_sept/'"
   ]
  },
  {
   "cell_type": "code",
   "execution_count": 5,
   "id": "49f5953c",
   "metadata": {},
   "outputs": [],
   "source": [
    "def load_data(channel, day, vbias, vled):\n",
    "    return uproot.open(data_path + f'QE{channel}-09_{day}_2023-V_{vbias}-A_{vled}-Hz_10.root')['RawTree']\n",
    "\n",
    "def compute_max_wf(RawTree, channel=0):\n",
    "    wfs_chann   = np.array(RawTree[f'chan{channel}/rdigi'].array())\n",
    "    subt_raw_wf = list(map(pf.subtract_baseline, wfs_chann))\n",
    "    max_wf      = np.array([np.max(subt_raw_wf[evt][int(1550/2):int(1700/2)]) for evt in range(len(subt_raw_wf))])\n",
    "    return max_wf\n",
    "\n",
    "def load_data_and_compute_max_wf(channel, day, vbias, vled):\n",
    "    data   = load_data(channel, day, vbias, vled)\n",
    "    max_wf = compute_max_wf(data)\n",
    "    return max_wf"
   ]
  },
  {
   "cell_type": "code",
   "execution_count": 6,
   "id": "78c069c4",
   "metadata": {},
   "outputs": [],
   "source": [
    "RawTree1  = load_data(channel=1,  day='01', vbias=55, vled=7.4)\n",
    "RawTree2  = load_data(channel=2,  day='01', vbias=55, vled=7.4)\n",
    "RawTree65 = load_data(channel=65, day='07', vbias=55, vled=6.4)"
   ]
  },
  {
   "cell_type": "code",
   "execution_count": null,
   "id": "4e35fabb",
   "metadata": {},
   "outputs": [],
   "source": [
    "channels = [   1,    2,    3,   55,   56,   57,   58,   59,   60,   64,   65,   66]\n",
    "vleds0   = [   7,    7,    7,    6,    6,    6,    6,    6,    6,    6,    6,    6]\n",
    "days     = ['01', '01', '01', '11', '11', '11', '11', '11', '11', '07', '07', '07']\n",
    "\n",
    "channel_v    = namedtuple('channel', 'channel vbias vled')\n",
    "all_max_data = {channel_v(channel=ch, vbias=vb, vled=vl): load_data_and_compute_max_wf(ch, day, vb, vl)\n",
    "                for ch, vled0, day in zip(channels, vleds0, days)\n",
    "                for vl             in [vled0 + 0.4, vled0 + 0.6]\n",
    "                for vb             in [55, 56]}"
   ]
  },
  {
   "cell_type": "markdown",
   "id": "1cb0019a",
   "metadata": {},
   "source": [
    "### Take a look at multiple waveforms of the same SiPM"
   ]
  },
  {
   "cell_type": "code",
   "execution_count": null,
   "id": "4cfea883",
   "metadata": {
    "scrolled": false
   },
   "outputs": [],
   "source": [
    "channel = 1\n",
    "plt.figure(figsize=(6, 4.5))\n",
    "for evt in range(10):\n",
    "    wf2 = np.array(RawTree1[f'chan0/rdigi'].array())[evt]\n",
    "    plt.plot(2*np.arange(len(wf2)), wf2, linewidth=0.5)\n",
    "plt.xlabel('Time window (ns)', fontsize=14)\n",
    "plt.ylabel('Amplitude (ADCs)', fontsize=14)\n",
    "plt.title(f\"Channel {channel}\")\n",
    "plt.tight_layout()\n",
    "plt.show()"
   ]
  },
  {
   "cell_type": "code",
   "execution_count": null,
   "id": "b844e0ab",
   "metadata": {},
   "outputs": [],
   "source": [
    "channel = 1\n",
    "plt.figure(figsize=(7, 4.5))\n",
    "for evt in range(1):\n",
    "    wf2 = np.array(RawTree1[f'chan0/rdigi'].array())[evt]\n",
    "    plt.plot(2*np.arange(len(wf2)), wf2, linewidth=0.5)\n",
    "plt.xlabel('Time window (ns)', fontsize=14)\n",
    "plt.ylabel('Amplitude (ADCs)', fontsize=14)\n",
    "#plt.xlim(0,2000)\n",
    "plt.title(f\"Channel {channel}\")\n",
    "plt.tight_layout()\n",
    "plt.show()"
   ]
  },
  {
   "cell_type": "code",
   "execution_count": null,
   "id": "0c8e21e4",
   "metadata": {},
   "outputs": [],
   "source": [
    "channel  = 1\n",
    "num_evts = 100\n",
    "plt.figure(figsize=(7, 4.5))\n",
    "sum_wf2 = np.sum(np.array(RawTree1[f'chan0/rdigi'].array())[:], axis=0)\n",
    "plt.plot(2*np.arange(len(wf2)), sum_wf2, linewidth=0.5)\n",
    "plt.xlabel('Time window (ns)', fontsize=14)\n",
    "plt.ylabel('Summed wf Amplitude (ADCs)', fontsize=14)\n",
    "#plt.xlim(0,2000)\n",
    "plt.title(f\"Channel {channel}\")\n",
    "plt.tight_layout()\n",
    "plt.show()"
   ]
  },
  {
   "cell_type": "code",
   "execution_count": null,
   "id": "b578d870",
   "metadata": {},
   "outputs": [],
   "source": [
    "channel  = 1\n",
    "num_evts = 100\n",
    "plt.figure(figsize=(7, 4.5))\n",
    "sum_wf2 = np.sum(np.array(RawTree1[f'chan0/rdigi'].array()), axis=0)\n",
    "plt.plot(2*np.arange(len(wf2)), sum_wf2, linewidth=0.5)\n",
    "plt.axvspan(1550, 1700, color='grey', alpha=0.2)\n",
    "plt.xlabel('Time window (ns)', fontsize=14)\n",
    "plt.ylabel('Summed wf Amplitude (ADCs)', fontsize=14)\n",
    "plt.xlim(1200,2200)\n",
    "plt.title(f\"Channel {channel}\")\n",
    "plt.tight_layout()\n",
    "plt.show()"
   ]
  },
  {
   "cell_type": "code",
   "execution_count": null,
   "id": "4b7584fc",
   "metadata": {
    "scrolled": true
   },
   "outputs": [],
   "source": [
    "channel = 1\n",
    "for evt in range(10):\n",
    "    plt.figure(figsize=(6, 4.5))\n",
    "    wf2 = np.array(RawTree1[f'chan0/rdigi'].array())[evt]\n",
    "    plt.plot(2*np.arange(len(wf2)), wf2, linewidth=0.5)\n",
    "    plt.xlabel('Time window (ns)', fontsize=14)\n",
    "    plt.ylabel('Amplitude (ADCs)', fontsize=14)\n",
    "    plt.xlim(1200,2000)\n",
    "    plt.title(f\"Channel {channel}\")\n",
    "    plt.tight_layout()\n",
    "    plt.show()"
   ]
  },
  {
   "cell_type": "markdown",
   "id": "2506d2a8",
   "metadata": {},
   "source": [
    "### Analyze spectra"
   ]
  },
  {
   "cell_type": "code",
   "execution_count": null,
   "id": "546f014f",
   "metadata": {},
   "outputs": [],
   "source": [
    "plt.hist(all_max_data[channel_v(channel=1, vbias=55, vled=7.6)], bins=150, range=(0, 1500), alpha=0.6, label='V$_{\\mathrm{bias}}$ = 55 V, V$_{\\mathrm{LED}}$ = 7.6 V')\n",
    "plt.hist(all_max_data[channel_v(channel=1, vbias=56, vled=7.6)], bins=150, range=(0, 1500), alpha=0.6, label='V$_{\\mathrm{bias}}$ = 56 V, V$_{\\mathrm{LED}}$ = 7.6 V')\n",
    "plt.title('Channel1')\n",
    "plt.xlabel('Amplitude (ADCs)', fontsize=14)\n",
    "plt.ylabel('Entries/bin',      fontsize=14)\n",
    "#plt.xlim(0, 1500)\n",
    "plt.legend()\n",
    "plt.show()"
   ]
  },
  {
   "cell_type": "code",
   "execution_count": null,
   "id": "7fcef9e6",
   "metadata": {},
   "outputs": [],
   "source": [
    "plt.hist(all_max_data[channel_v(channel=1, vbias=56, vled=7.4)], bins=150, range=(0, 1500), alpha=0.6, label='V$_{\\mathrm{bias}}$ = 56 V, V$_{\\mathrm{LED}}$ = 7.4 V')\n",
    "plt.hist(all_max_data[channel_v(channel=1, vbias=56, vled=7.6)], bins=150, range=(0, 1500), alpha=0.6, label='V$_{\\mathrm{bias}}$ = 56 V, V$_{\\mathrm{LED}}$ = 7.6 V')\n",
    "plt.title('Channel 1')\n",
    "plt.xlabel('Amplitude (ADCs)', fontsize=14)\n",
    "plt.ylabel('Entries/bin',      fontsize=14)\n",
    "#plt.xlim(0, 1500)\n",
    "plt.legend()\n",
    "plt.show()"
   ]
  },
  {
   "cell_type": "code",
   "execution_count": null,
   "id": "88edcf54",
   "metadata": {},
   "outputs": [],
   "source": [
    "plt.hist(all_max_data[channel_v(channel=1, vbias=55, vled=7.4)], bins=150, range=(0, 1500), alpha=0.6, label='Channel1')\n",
    "plt.hist(all_max_data[channel_v(channel=2, vbias=55, vled=7.4)], bins=150, range=(0, 1500), alpha=0.6, label='Channel2')\n",
    "plt.hist(all_max_data[channel_v(channel=3, vbias=55, vled=7.4)], bins=150, range=(0, 1500), alpha=0.6, label='Channel3')\n",
    "plt.title('V$_{\\mathrm{bias}}$ = 55 V, V$_{\\mathrm{LED}}$ = 7.4 V')\n",
    "plt.xlabel('Amplitude (ADCs)', fontsize=14)\n",
    "plt.ylabel('Entries/bin',      fontsize=14)\n",
    "#plt.xlim(0, 1500)\n",
    "plt.legend()\n",
    "plt.show()"
   ]
  },
  {
   "cell_type": "code",
   "execution_count": null,
   "id": "99fb9cca",
   "metadata": {},
   "outputs": [],
   "source": [
    "plt.hist(all_max_data[channel_v(channel=1, vbias=55, vled=7.6)], bins=150, range=(0, 1300), alpha=0.6, label='Channel1')\n",
    "plt.hist(all_max_data[channel_v(channel=2, vbias=55, vled=7.6)], bins=150, range=(0, 1300), alpha=0.6, label='Channel2')\n",
    "plt.hist(all_max_data[channel_v(channel=3, vbias=55, vled=7.6)], bins=150, range=(0, 1300), alpha=0.6, label='Channel3')\n",
    "plt.title('V$_{\\mathrm{bias}}$ = 55 V, V$_{\\mathrm{LED}}$ = 7.6 V')\n",
    "plt.xlabel('Amplitude (ADCs)', fontsize=14)\n",
    "plt.ylabel('Entries/bin',      fontsize=14)\n",
    "#plt.xlim(0, 1500)\n",
    "plt.legend()\n",
    "plt.show()"
   ]
  },
  {
   "cell_type": "code",
   "execution_count": null,
   "id": "c2adf40d",
   "metadata": {},
   "outputs": [],
   "source": [
    "vled = 6.6\n",
    "vb   = 55\n",
    "for ch in [55, 56, 57, 58, 59, 60, 64, 65, 66]:\n",
    "    plt.hist(all_max_data[channel_v(channel=ch, vbias=vb, vled=vled)], bins=120, range=(0, 1500), alpha=0.6, label=f'Channel {ch}')\n",
    "plt.title('V$_{\\mathrm{bias}}$ = 55 V, V$_{\\mathrm{LED}}$ = 6.6 V')\n",
    "plt.xlabel('Amplitude (ADCs)', fontsize=14)\n",
    "plt.ylabel('Entries/bin',      fontsize=14)\n",
    "#plt.xlim(0, 1500)\n",
    "plt.legend()\n",
    "plt.show()"
   ]
  },
  {
   "cell_type": "code",
   "execution_count": null,
   "id": "d3cba018",
   "metadata": {},
   "outputs": [],
   "source": [
    "vled = 6.6\n",
    "vb   = 56\n",
    "for ch in [55, 56, 57, 58, 59, 60, 64, 65, 66]:\n",
    "    plt.hist(all_max_data[channel_v(channel=ch, vbias=vb, vled=vled)], bins=150, range=(0, 1500), alpha=0.6, label=f'ich {ch}')\n",
    "plt.title(f'V_{vb}, A_{vled}')\n",
    "plt.xlabel('Amplitude (ADCs)', fontsize=14)\n",
    "plt.ylabel('Entries/bin',      fontsize=14)\n",
    "#plt.xlim(0, 1500)\n",
    "plt.legend()\n",
    "plt.show()"
   ]
  },
  {
   "cell_type": "markdown",
   "id": "0cf68722",
   "metadata": {},
   "source": [
    "### Fit"
   ]
  },
  {
   "cell_type": "code",
   "execution_count": null,
   "id": "a1bf3191",
   "metadata": {},
   "outputs": [],
   "source": [
    "# Define the function for a single Gaussian peak\n",
    "def gaussian(x, amplitude, mean, stddev):\n",
    "    return amplitude * np.exp(-(x - mean)**2 / (2 * stddev**2))\n",
    "\n",
    "# Define the function for multiple Gaussian peaks\n",
    "def multi_gaussian(x, *params):\n",
    "    n_peaks = len(params) // 3\n",
    "    y       = np.zeros_like(x)\n",
    "    for i in range(n_peaks):\n",
    "        amplitude = params[i * 3]\n",
    "        mean      = params[i * 3 + 1]\n",
    "        stddev    = params[i * 3 + 2]\n",
    "        y += gaussian(x, amplitude, mean, stddev)\n",
    "    return y\n",
    "\n",
    "def shift_to_bin_centers(x):\n",
    "    \"\"\"\n",
    "    Return bin centers, given bin lower edges.\n",
    "    \"\"\"\n",
    "    return x[:-1] + np.diff(x) * 0.5\n",
    "\n",
    "def truncate(number, decimals=0):\n",
    "    \"\"\"\n",
    "    Returns a value truncated to a specific number of decimal places.\n",
    "    \"\"\"\n",
    "    if not isinstance(decimals, int):\n",
    "        raise TypeError(\"decimal places must be an integer.\")\n",
    "    elif decimals < 0:\n",
    "        raise ValueError(\"decimal places has to be 0 or more.\")\n",
    "    elif decimals == 0:\n",
    "        return math.trunc(number)\n",
    "\n",
    "    factor = 10.0 ** decimals\n",
    "    return math.trunc(number * factor) / factor\n",
    "\n",
    "def plot_linear_fit(y, yerr):\n",
    "    x    = np.arange(len(y))+1\n",
    "    slope, intercept, r_value, p_value, std_err = stats.linregress(x, y)\n",
    "    line = slope*x + intercept\n",
    "    \n",
    "    fig = plt.figure(figsize=(8,5))\n",
    "    plt.errorbar(x, y, yerr=yerr, marker='_', markersize=5, linestyle='', c='k', label=f'Measured gain values')\n",
    "    plt.plot(x, line, color='r', alpha=0.7, label=f'Fit: y = x*{round(slope, 2)} - {round(np.abs(intercept), 2)}, \\n     R$^2$ = {truncate(r_value, 2)}')\n",
    "    \n",
    "    plt.xlabel('Peak number')\n",
    "    plt.ylabel('Mu from fit (ADCs)')\n",
    "    plt.legend(fontsize=14, loc='upper left')\n",
    "    plt.show()\n",
    "    return slope"
   ]
  },
  {
   "cell_type": "code",
   "execution_count": null,
   "id": "5b822a9c",
   "metadata": {},
   "outputs": [],
   "source": [
    "all_max_data"
   ]
  },
  {
   "cell_type": "markdown",
   "id": "826b40cf",
   "metadata": {},
   "source": [
    "### Fit spectra"
   ]
  },
  {
   "cell_type": "code",
   "execution_count": null,
   "id": "19466168",
   "metadata": {},
   "outputs": [],
   "source": [
    "def extract_gain_and_mean(channel, vbias, vled, bins, prange, initial_guess):\n",
    "    \n",
    "    data = all_max_data[channel_v(channel=channel, vbias=vbias, vled=vled)]\n",
    "    \n",
    "    print()\n",
    "    print('------------------------------------------------------------------------------------------')\n",
    "    print(f'-------    Channel {channel}, Vbias = {vbias} V, VLED = {vled}   ------------------------')\n",
    "    print('------------------------------------------------------------------------------------------')\n",
    "    print()\n",
    "\n",
    "    plt.figure(figsize=(7, 5))\n",
    "    y, x, _ = plt.hist(data, bins=bins, range=prange, alpha=0.6, label=f'Channel{channel}')\n",
    "    #plt.axvline(x=740, color='r')\n",
    "    plt.xlabel('Amplitude (ADCs)', fontsize=15)\n",
    "    plt.ylabel('Entries/bin',      fontsize=15)\n",
    "    plt.title(f\"Spectrum for channel {channel} (height of the peaks)\", fontsize=15)\n",
    "    plt.show()\n",
    "    \n",
    "    popt, pcov = curve_fit(multi_gaussian, shift_to_bin_centers(x), y, p0=initial_guess)\n",
    "    \n",
    "    plt.figure(figsize=(7, 5))\n",
    "    plt.step(shift_to_bin_centers(x), y, label='Spectrum')\n",
    "    plt.plot(x, multi_gaussian(x, *popt), 'r--', label='Fit')\n",
    "    plt.xlabel('Amplitude (ADCs)', fontsize=15)\n",
    "    plt.ylabel('Entries/bin',      fontsize=15)\n",
    "    plt.title(f\"Channel {channel}\",     fontsize=15)\n",
    "    plt.legend()\n",
    "    plt.show()\n",
    "    \n",
    "    perr         = np.sqrt(np.diag(pcov))    \n",
    "    means_ch     = np.array([popt[i*3+1] for i in range(len(popt)//3)])\n",
    "    means_ch_err = np.array([perr[i*3+1] for i in range(len(perr)//3)])\n",
    "    \n",
    "    gain_ch = plot_linear_fit(means_ch[:4], means_ch_err[:4])\n",
    "    \n",
    "    return gain_ch, means_ch"
   ]
  },
  {
   "cell_type": "code",
   "execution_count": null,
   "id": "5d6de614",
   "metadata": {},
   "outputs": [],
   "source": [
    "all_gains = {}\n",
    "all_means = {}"
   ]
  },
  {
   "cell_type": "code",
   "execution_count": null,
   "id": "163deb7b",
   "metadata": {
    "scrolled": true
   },
   "outputs": [],
   "source": [
    "vb = 56\n",
    "for ch, vled in zip(channels, vleds0):\n",
    "    vl = vled + 0.6\n",
    "    initial_guess  = [200, 20, 10, 250, 200, 15, 120, 400, 15, 60, 550, 15, 15, 740, 10]\n",
    "    gain, ch_means = extract_gain_and_mean(channel       = ch,\n",
    "                                           vbias         = vb,\n",
    "                                           vled          = vl,\n",
    "                                           bins          = 120,\n",
    "                                           prange        = (-50, 1500),\n",
    "                                           initial_guess = initial_guess)\n",
    "    \n",
    "    all_gains[channel_v(channel=ch, vbias=vb, vled=vl)] = gain\n",
    "    all_means[channel_v(channel=ch, vbias=vb, vled=vl)] = ch_means"
   ]
  },
  {
   "cell_type": "code",
   "execution_count": null,
   "id": "1cabe8ef",
   "metadata": {
    "scrolled": true
   },
   "outputs": [],
   "source": [
    "vb = 55\n",
    "for ch, vled in zip(channels, vleds0):\n",
    "    vl = vled + 0.6\n",
    "    initial_guess = [200, 20, 10, 250, 155, 15, 120, 290, 15, 60, 430, 15, 15, 580, 10]\n",
    "    gain, ch_means = extract_gain_and_mean(channel       = ch,\n",
    "                                           vbias         = vb,\n",
    "                                           vled          = vl,\n",
    "                                           bins          = 100,\n",
    "                                           prange        = (-50, 1200),\n",
    "                                           initial_guess = initial_guess)\n",
    "    all_gains[channel_v(channel=ch, vbias=vb, vled=vl)] = gain\n",
    "    all_means[channel_v(channel=ch, vbias=vb, vled=vl)] = ch_means"
   ]
  },
  {
   "cell_type": "code",
   "execution_count": null,
   "id": "9cddcc74",
   "metadata": {},
   "outputs": [],
   "source": [
    "gains_vb55 = np.array([all_gains[channel_v(channel=ch, vbias=55, vled=0.6+vl)] for ch,vl in zip(channels, vleds0)])\n",
    "gains_vb56 = np.array([all_gains[channel_v(channel=ch, vbias=56, vled=0.6+vl)] for ch,vl in zip(channels, vleds0)])"
   ]
  },
  {
   "cell_type": "code",
   "execution_count": null,
   "id": "432d3fb5",
   "metadata": {},
   "outputs": [],
   "source": [
    "plt.scatter(range(len(gains_vb55)), gains_vb55, marker='*', s=50, label='V$_{\\mathrm{bias}}$ = 55 V')\n",
    "plt.scatter(range(len(gains_vb56)), gains_vb56, marker='*', s=50, label='V$_{\\mathrm{bias}}$ = 56 V')\n",
    "plt.xlim(-1, 12)\n",
    "plt.ylim(70, 250)\n",
    "plt.ylabel('Gain (ADCs)')\n",
    "plt.xlabel('Channel')\n",
    "plt.xticks(range(len(gains_vb55)), channels)\n",
    "plt.legend()\n",
    "plt.show()"
   ]
  },
  {
   "cell_type": "code",
   "execution_count": null,
   "id": "afb178be",
   "metadata": {},
   "outputs": [],
   "source": [
    "lab1 = 'V$_{\\mathrm{bias}}$ = 55 V \\n$\\mu$ = '+f'{np.round(np.mean(gains_vb55), 1)} ADCs \\n$\\sigma$ = {np.round(np.std(gains_vb55), 1)} ADCs'\n",
    "lab2 = 'V$_{\\mathrm{bias}}$ = 56 V \\n$\\mu$ = '+f'{np.round(np.mean(gains_vb56), 1)} ADCs \\n$\\sigma$ = {np.round(np.std(gains_vb56), 1)} ADCs'\n",
    "\n",
    "plt.hist(gains_vb55, bins=70, range=(90, 230), label=lab1, alpha=0.7)\n",
    "plt.hist(gains_vb56, bins=70, range=(90, 230), label=lab2, alpha=0.7)\n",
    "plt.xlabel('Gain (ADCs)')\n",
    "plt.ylabel('Entries/bin')\n",
    "plt.legend()\n",
    "plt.show()"
   ]
  },
  {
   "cell_type": "markdown",
   "id": "13f662b8",
   "metadata": {},
   "source": [
    "### Compute the quantum efficiency for the different channels"
   ]
  },
  {
   "cell_type": "code",
   "execution_count": null,
   "id": "a6d4e06b",
   "metadata": {},
   "outputs": [],
   "source": [
    "colors = ['indianred', 'grey', 'orange', 'skyblue']\n",
    "\n",
    "plt.figure(figsize=(7, 5))\n",
    "y, x, _ = plt.hist(all_max_data[channel_v(channel=1, vbias=55, vled=7.6)], bins=150, range=(-50, 1000), alpha=0.6, color='teal')\n",
    "means_ch1 = all_means[channel_v(channel=1, vbias=55, vled=7.6)]\n",
    "gain_ch1  = all_gains[channel_v(channel=1, vbias=55, vled=7.6)]\n",
    "\n",
    "for i, (mean, col) in enumerate(zip(means_ch1[:3], colors[:3])):\n",
    "    plt.axvspan(mean-gain_ch1/2, mean+gain_ch1/2, alpha=0.2, color=col, label=f'Peak {i}')\n",
    "plt.axvspan(means_ch1[2]+gain_ch1/2, means_ch1[2]+3*gain_ch1/2, alpha=0.2, color='skyblue', label=f'Peak 3')\n",
    "plt.xlabel('Amplitude (ADCs)', fontsize=15)\n",
    "plt.ylabel('Entries/bin',      fontsize=15)\n",
    "plt.title(f\"Channel 1\", fontsize=15)\n",
    "plt.legend()\n",
    "plt.show()"
   ]
  },
  {
   "cell_type": "code",
   "execution_count": null,
   "id": "c860b1dd",
   "metadata": {},
   "outputs": [],
   "source": [
    "integ_all_chs = {}\n",
    "\n",
    "for vb in [55, 56]:\n",
    "    for ch,vl in zip(channels, vleds0):\n",
    "        means_ch1 = all_means[channel_v(channel=ch, vbias=vb, vled=0.6+vl)]\n",
    "        gain_ch1  = all_gains[channel_v(channel=ch, vbias=vb, vled=0.6+vl)]\n",
    "        ints_ch   = []\n",
    "        for mean_ch in means_ch1[:3]:\n",
    "            ch_spec    = all_max_data[channel_v(channel=ch, vbias=vb, vled=0.6+vl)]\n",
    "            peak_wf_rt = np.sum(ch_spec[(ch_spec>(mean_ch-gain_ch1/2)) & (ch_spec<(mean_ch+gain_ch1/2))])\n",
    "            ints_ch.append(peak_wf_rt)\n",
    "            \n",
    "        ints_ch.append(np.sum(ch_spec[(ch_spec>(means_ch1[2]+gain_ch1/2)) & (ch_spec<(means_ch1[2]+3*gain_ch1/2))]))\n",
    "        \n",
    "        integ_all_chs[channel_v(channel=ch, vbias=vb, vled=0.6+vl)] = np.array(ints_ch)"
   ]
  },
  {
   "cell_type": "code",
   "execution_count": null,
   "id": "2dd0b553",
   "metadata": {},
   "outputs": [],
   "source": [
    "for vb in [55, 56]:\n",
    "    plt.figure(figsize=(7, 5))\n",
    "    for ch,vl in zip(channels, vleds0):\n",
    "        ints_ch = integ_all_chs[channel_v(channel=ch, vbias=vb, vled=0.6+vl)]\n",
    "        #print(np.arange(4)*ints_ch/ints_ch1)\n",
    "        if ch < 4:\n",
    "            ref_ch = integ_all_chs[channel_v(channel=1,  vbias=vb, vled=7.6)]\n",
    "        else:\n",
    "            ref_ch = integ_all_chs[channel_v(channel=55, vbias=vb, vled=6.6)]\n",
    "        plt.scatter(np.arange(4), np.arange(4)*ints_ch/ref_ch, marker='*', label=f'Channel {ch}')\n",
    "    plt.legend(fontsize=10, ncol=2)\n",
    "    plt.show()"
   ]
  },
  {
   "cell_type": "code",
   "execution_count": null,
   "id": "de3f8214",
   "metadata": {},
   "outputs": [],
   "source": [
    "for vb in [55, 56]:\n",
    "    plt.figure(figsize=(7, 5))\n",
    "    for ch,vl in zip(channels, vleds0):\n",
    "        ints_ch = integ_all_chs[channel_v(channel=ch, vbias=vb, vled=0.6+vl)]\n",
    "        #print(np.arange(4)*ints_ch/ints_ch1)\n",
    "        if ch < 4:\n",
    "            ref_ch = integ_all_chs[channel_v(channel=1,  vbias=vb, vled=7.6)]\n",
    "            plt.scatter(np.arange(4), np.arange(4)*ints_ch/ref_ch, marker='*', s=60, label=f'Channel {ch}')\n",
    "    plt.legend(fontsize=12)\n",
    "    plt.title(f'Vbias = {vb} V')\n",
    "    plt.xlim(-0.5, 3.5)\n",
    "    plt.ylim(-1, 4)\n",
    "    plt.xlabel('Peak number')\n",
    "    plt.ylabel('Relative QE between channels')\n",
    "    plt.show()"
   ]
  },
  {
   "cell_type": "code",
   "execution_count": null,
   "id": "5db84863",
   "metadata": {},
   "outputs": [],
   "source": [
    "for vb in [55, 56]:\n",
    "    plt.figure(figsize=(7, 5))\n",
    "    for ch,vl in zip(channels, vleds0):\n",
    "        ints_ch = integ_all_chs[channel_v(channel=ch, vbias=vb, vled=0.6+vl)]\n",
    "        #print(np.arange(4)*ints_ch/ints_ch1)\n",
    "        if ch > 4:\n",
    "            ref_ch = integ_all_chs[channel_v(channel=55,  vbias=vb, vled=6.6)]\n",
    "            plt.scatter(np.arange(4), np.arange(4)*ints_ch/ref_ch, marker='*', s=60, label=f'Channel {ch}')\n",
    "    plt.title(f'Vbias = {vb} V')\n",
    "    plt.legend(fontsize=12, ncol=2)\n",
    "    plt.xlim(-0.5, 3.5)\n",
    "    plt.ylim(-1, 5)\n",
    "    plt.xlabel('Peak number')\n",
    "    plt.ylabel('Relative QE between channels')\n",
    "    plt.show()"
   ]
  },
  {
   "cell_type": "code",
   "execution_count": null,
   "id": "8269aedc",
   "metadata": {},
   "outputs": [],
   "source": []
  }
 ],
 "metadata": {
  "kernelspec": {
   "display_name": "Python 3 (ipykernel)",
   "language": "python",
   "name": "python3"
  },
  "language_info": {
   "codemirror_mode": {
    "name": "ipython",
    "version": 3
   },
   "file_extension": ".py",
   "mimetype": "text/x-python",
   "name": "python",
   "nbconvert_exporter": "python",
   "pygments_lexer": "ipython3",
   "version": "3.10.9"
  }
 },
 "nbformat": 4,
 "nbformat_minor": 5
}
